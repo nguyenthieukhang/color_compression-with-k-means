{
 "cells": [
  {
   "cell_type": "code",
   "execution_count": null,
   "metadata": {},
   "outputs": [],
   "source": [
    "import numpy as np\n",
    "from PIL import Image\n",
    "import random\n",
    "import matplotlib.pyplot as plt\n",
    "import time\n",
    "import math"
   ]
  },
  {
   "cell_type": "code",
   "execution_count": null,
   "metadata": {},
   "outputs": [],
   "source": [
    "#Get the image\n",
    "im = Image.open('bricks.jpeg') # Can be many different formats.\n",
    "pix = im.load()\n",
    "print(im.size)\n",
    "height = im.size[0]\n",
    "width = im.size[1]\n",
    "display(im)"
   ]
  },
  {
   "cell_type": "code",
   "execution_count": null,
   "metadata": {
    "scrolled": true
   },
   "outputs": [],
   "source": [
    "start_time = time.time()\n",
    "\n",
    "pool = []\n",
    "for x in range(256):\n",
    "    for y in range(256):\n",
    "        for z in range(256):\n",
    "            pool.append((x, y, z))\n",
    "            \n",
    "print(len(pool))\n",
    "\n",
    "print(\"--- %s seconds ---\" % (time.time() - start_time))"
   ]
  },
  {
   "cell_type": "code",
   "execution_count": null,
   "metadata": {},
   "outputs": [],
   "source": [
    "iter = 50\n",
    "INF = 1e9+10\n",
    "N = len(pool)\n",
    "cluster = [-1]*N\n",
    "Jclust = []\n",
    "centroid = []\n",
    "\n",
    "def dist(a, b):\n",
    "    return math.sqrt((a[0]-b[0])**2+(a[1]-b[1])**2+(a[2]-b[2])**2)\n",
    "\n",
    "def centroids_generator(k):\n",
    "    lst1 = random.sample(range(256), k)\n",
    "    lst2 = random.sample(range(256), k)\n",
    "    lst3 = random.sample(range(256), k)\n",
    "    for i in range(k):\n",
    "        centroid.append((lst1[i], lst2[i], lst3[i]))\n",
    "                        \n",
    "                        \n",
    "def kmeans(k):\n",
    "    start_time = time.time()\n",
    "    centroids_generator(k)\n",
    "\n",
    "    print('Done generator')\n",
    "    for i in range(iter):\n",
    "        print(i, 'th iteration')\n",
    "        cost = 0\n",
    "        for (key, item) in enumerate(pool):\n",
    "            print(key)\n",
    "            mn = INF\n",
    "            label = -1\n",
    "            for (ind, cent) in enumerate(centroid): \n",
    "                print('centroid')\n",
    "                if dist(item, cent)<mn:\n",
    "                    mn = dist(item, cent)\n",
    "                    label = ind\n",
    "            cluster[key] = label\n",
    "            cost+=mn\n",
    "        print('Done labeling')\n",
    "        Jclust.append(cost/N)\n",
    "        cnt = [0]*k\n",
    "        sum = [(0, 0, 0)]*k\n",
    "        for (key, item) in enumerate(pool):\n",
    "            cnt[cluster[key]]+=1\n",
    "            sum[cluster[key]] = (sum[cluster[key]][0]+item[0], sum[cluster[key]][1]+item[1], sum[cluster[key]][2]+item[2])\n",
    "        print('Done updating centroid')\n",
    "        for j in range(k):\n",
    "            centroid[j] = (sum[j][0]/cnt[j], sum[j][1]/cnt[j], sum[j][2]/cnt[j])\n",
    "    print(\"--- %s seconds ---\" % (time.time() - start_time))\n",
    "            \n",
    "#show Jclust\n",
    "def show_Jclust():\n",
    "    plt.plot(Jclust)\n",
    "    plt.show()"
   ]
  },
  {
   "cell_type": "code",
   "execution_count": null,
   "metadata": {},
   "outputs": [],
   "source": [
    "kmeans(8)"
   ]
  },
  {
   "cell_type": "code",
   "execution_count": null,
   "metadata": {},
   "outputs": [],
   "source": [
    "#Replacing the original color with its representative color\n",
    "\n",
    "def getIndex(tp):\n",
    "    return tp[0]*256*256+tp[1]*256+tp[2]\n",
    "\n",
    "for i in range(len(pool)):\n",
    "    pool[i] = centroid[cluster[i]]\n",
    "    \n",
    "for i in range(height):\n",
    "    for j in range(width):\n",
    "        pix[i, j] = pool[getIndex(pix[i, j])]"
   ]
  },
  {
   "cell_type": "code",
   "execution_count": null,
   "metadata": {},
   "outputs": [],
   "source": [
    "display(im)"
   ]
  },
  {
   "cell_type": "code",
   "execution_count": null,
   "metadata": {},
   "outputs": [],
   "source": []
  }
 ],
 "metadata": {
  "kernelspec": {
   "display_name": "Python 3",
   "language": "python",
   "name": "python3"
  },
  "language_info": {
   "codemirror_mode": {
    "name": "ipython",
    "version": 3
   },
   "file_extension": ".py",
   "mimetype": "text/x-python",
   "name": "python",
   "nbconvert_exporter": "python",
   "pygments_lexer": "ipython3",
   "version": "3.7.4"
  }
 },
 "nbformat": 4,
 "nbformat_minor": 2
}
